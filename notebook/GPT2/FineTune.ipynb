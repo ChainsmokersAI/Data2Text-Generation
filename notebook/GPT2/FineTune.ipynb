{
 "cells": [
  {
   "cell_type": "code",
   "execution_count": 1,
   "id": "f5150bd1",
   "metadata": {},
   "outputs": [],
   "source": [
    "import json\n",
    "\n",
    "import torch\n",
    "import torch.nn as nn\n",
    "from torch.utils.data import Dataset, DataLoader\n",
    "from torch.utils.tensorboard import SummaryWriter\n",
    "\n",
    "from transformers import GPT2Tokenizer, GPT2LMHeadModel, AdamW, get_linear_schedule_with_warmup"
   ]
  },
  {
   "cell_type": "code",
   "execution_count": 2,
   "id": "079a8b95",
   "metadata": {},
   "outputs": [],
   "source": [
    "# Root Path\n",
    "root_path='/root/research/Graph-To-Text/'\n",
    "\n",
    "# Device: (Single) GPU\n",
    "device=torch.device('cuda:0')\n",
    "\n",
    "# Hyperparams\n",
    "batch_size=3\n",
    "accumulation_steps=2\n",
    "epochs=3\n",
    "lr=1e-5"
   ]
  },
  {
   "cell_type": "code",
   "execution_count": 3,
   "id": "a5bb7379",
   "metadata": {},
   "outputs": [
    {
     "data": {
      "text/plain": [
       "Embedding(50258, 1280)"
      ]
     },
     "execution_count": 3,
     "metadata": {},
     "output_type": "execute_result"
    }
   ],
   "source": [
    "# Pre-Trained Tokenizer, LM\n",
    "tokenizer=GPT2Tokenizer.from_pretrained('gpt2-large')\n",
    "model=GPT2LMHeadModel.from_pretrained('gpt2-large')\n",
    "\n",
    "# Add PAD Token: [PAD]\n",
    "tokenizer.add_special_tokens({'pad_token': '[PAD]'})\n",
    "model.resize_token_embeddings(len(tokenizer))"
   ]
  },
  {
   "cell_type": "code",
   "execution_count": 4,
   "id": "fa3553b3",
   "metadata": {},
   "outputs": [
    {
     "name": "stdout",
     "output_type": "stream",
     "text": [
      "bos_token: <|endoftext|>\n",
      "eos_token: <|endoftext|>\n",
      "pad_token_id: 50257\n"
     ]
    }
   ],
   "source": [
    "# Special Tokens\n",
    "print(\"bos_token:\", tokenizer.bos_token)\n",
    "print(\"eos_token:\", tokenizer.eos_token)\n",
    "print(\"pad_token_id:\", tokenizer.pad_token_id)"
   ]
  },
  {
   "cell_type": "code",
   "execution_count": 5,
   "id": "e2395bff",
   "metadata": {},
   "outputs": [],
   "source": [
    "def process_webnlg(dicts):\n",
    "    \"\"\"\n",
    "    Process WebNLG Dataset\n",
    "    \"\"\"\n",
    "    triples=[]\n",
    "    texts=[]\n",
    "    \n",
    "    for index, dict_ in enumerate(dicts['entries']):\n",
    "        \n",
    "        data=dict_[str(index+1)]\n",
    "        \n",
    "        # Triple Data\n",
    "        triple_proc=''\n",
    "        for triple in data['modifiedtripleset']:\n",
    "            subj, prop, obj=triple['subject'], triple['property'], triple['object']\n",
    "            triple_proc+='| {} : {} : {} '.format(subj, prop, obj)\n",
    "            \n",
    "        # Text Data\n",
    "        for text in data['lexicalisations']:\n",
    "            if text['comment']!='good': continue\n",
    "                \n",
    "            triples.append(triple_proc)\n",
    "            texts.append(text['lex'])\n",
    "            \n",
    "    print(len(triples), \"data\")\n",
    "    \n",
    "    return triples, texts"
   ]
  },
  {
   "cell_type": "code",
   "execution_count": 6,
   "id": "79f80108",
   "metadata": {},
   "outputs": [
    {
     "name": "stdout",
     "output_type": "stream",
     "text": [
      "18025 data\n",
      "2258 data\n"
     ]
    }
   ],
   "source": [
    "with open(root_path+'dataset/webnlg/train.json', 'r') as f:\n",
    "    dict_train=json.load(f)\n",
    "    f.close()\n",
    "    \n",
    "# Process Train Set\n",
    "triples_train, texts_train=process_webnlg(dict_train)\n",
    "\n",
    "with open(root_path+'dataset/webnlg/dev.json', 'r') as f:\n",
    "    dict_dev=json.load(f)\n",
    "    f.close()\n",
    "    \n",
    "# Process Dev Set\n",
    "triples_dev, texts_dev=process_webnlg(dict_dev)"
   ]
  },
  {
   "cell_type": "code",
   "execution_count": 7,
   "id": "139f31fd",
   "metadata": {},
   "outputs": [],
   "source": [
    "class WebNLGDataset(Dataset):\n",
    "    \"\"\"\n",
    "    PyTorch Dataset Class: WebNLG Dataset\n",
    "    \"\"\"\n",
    "    def __init__(self, tokenizer, triples, texts):\n",
    "        self.data=[]\n",
    "        self.label=[]\n",
    "        \n",
    "        for index, triple in enumerate(triples):\n",
    "            data=tokenizer.encode(triple+tokenizer.bos_token+texts[index]+tokenizer.eos_token)\n",
    "            self.data.append(data)\n",
    "            \n",
    "            label=tokenizer.encode(triple+tokenizer.bos_token+texts[index]+tokenizer.eos_token)\n",
    "            sep=label.index(tokenizer.bos_token_id)+1\n",
    "            label[:sep]=[-100]*sep\n",
    "            self.label.append(label)\n",
    "            \n",
    "        print(len(self.data), \"data\")\n",
    "    \n",
    "    def __getitem__(self, idx):\n",
    "        return self.data[idx], self.label[idx]\n",
    "    \n",
    "    def __len__(self):\n",
    "        return len(self.data)"
   ]
  },
  {
   "cell_type": "code",
   "execution_count": 8,
   "id": "ea395251",
   "metadata": {},
   "outputs": [],
   "source": [
    "def collate_fn(batch):\n",
    "    \"\"\"\n",
    "    For Same Sequence Length on Same Batch: Padding\n",
    "    \"\"\"\n",
    "    max_len=0\n",
    "    for data, _ in batch:\n",
    "        if len(data)>max_len: max_len=len(data)\n",
    "            \n",
    "    datas=[]\n",
    "    labels=[]\n",
    "    for data, label in batch:\n",
    "        data.extend([tokenizer.pad_token_id]*(max_len-len(data)))\n",
    "        datas.append(data)\n",
    "        \n",
    "        label.extend([tokenizer.pad_token_id]*(max_len-len(label)))\n",
    "        labels.append(label)\n",
    "        \n",
    "    return torch.tensor(datas), torch.tensor(labels)"
   ]
  },
  {
   "cell_type": "code",
   "execution_count": 9,
   "id": "b3154951",
   "metadata": {},
   "outputs": [
    {
     "name": "stdout",
     "output_type": "stream",
     "text": [
      "18025 data\n",
      "2258 data\n"
     ]
    }
   ],
   "source": [
    "# Train Set\n",
    "dataset_train=WebNLGDataset(tokenizer=tokenizer, triples=triples_train, texts=texts_train)\n",
    "dataloader_train=DataLoader(dataset_train, batch_size=batch_size, shuffle=True, collate_fn=collate_fn)\n",
    "\n",
    "# Dev Set\n",
    "dataset_dev=WebNLGDataset(tokenizer=tokenizer, triples=triples_dev, texts=texts_dev)\n",
    "dataloader_dev=DataLoader(dataset_dev, batch_size=batch_size, shuffle=True, collate_fn=collate_fn)"
   ]
  },
  {
   "cell_type": "code",
   "execution_count": 10,
   "id": "06d957e3",
   "metadata": {
    "scrolled": true
   },
   "outputs": [
    {
     "name": "stdout",
     "output_type": "stream",
     "text": [
      "epoch 1 step 500 loss_train 0.5126\n",
      "epoch 1 step 1000 loss_train 0.3445\n",
      "epoch 1 step 1500 loss_train 0.6000\n",
      "epoch 1 step 2000 loss_train 0.2809\n",
      "epoch 1 step 2500 loss_train 0.3732\n",
      "epoch 1 step 3000 loss_train 0.3763\n",
      "=====\n",
      "epoch 1 loss_eval 0.3171\n",
      "=====\n",
      "epoch 2 step 3500 loss_train 0.2349\n",
      "epoch 2 step 4000 loss_train 0.2884\n",
      "epoch 2 step 4500 loss_train 0.1846\n",
      "epoch 2 step 5000 loss_train 0.3344\n",
      "epoch 2 step 5500 loss_train 0.2260\n",
      "epoch 2 step 6000 loss_train 0.2515\n",
      "=====\n",
      "epoch 2 loss_eval 0.1982\n",
      "=====\n",
      "epoch 3 step 6500 loss_train 0.0845\n",
      "epoch 3 step 7000 loss_train 0.1369\n",
      "epoch 3 step 7500 loss_train 0.1944\n",
      "epoch 3 step 8000 loss_train 0.1050\n",
      "epoch 3 step 8500 loss_train 0.2375\n",
      "epoch 3 step 9000 loss_train 0.2122\n",
      "=====\n",
      "epoch 3 loss_eval 0.1408\n",
      "=====\n"
     ]
    }
   ],
   "source": [
    "# Optim, Scheduler\n",
    "optimizer=AdamW(model.parameters(), lr=lr)\n",
    "scheduler=get_linear_schedule_with_warmup(\n",
    "    optimizer=optimizer,\n",
    "    # 3% of Total Steps\n",
    "    num_warmup_steps=int(0.03*epochs*len(dataset_train)/batch_size),\n",
    "    num_training_steps=int(epochs*len(dataset_train)/(accumulation_steps*batch_size))\n",
    ")\n",
    "\n",
    "# TensorBoard: Logging\n",
    "writer=SummaryWriter()\n",
    "step_global=0\n",
    "\n",
    "for epoch in range(epochs):\n",
    "    # Train Phase\n",
    "    model.train()\n",
    "    model.to(device)\n",
    "    \n",
    "    loss_train=0\n",
    "    optimizer.zero_grad()\n",
    "    \n",
    "    for step, (data, label) in enumerate(dataloader_train):\n",
    "        data=data.to(device)\n",
    "        label=label.to(device)\n",
    "        \n",
    "        outputs=model(data, labels=label)\n",
    "        \n",
    "        loss=outputs[0]/accumulation_steps\n",
    "        loss.backward()\n",
    "        \n",
    "        loss_train+=loss.item()\n",
    "        \n",
    "        if (step+1)%accumulation_steps==0:\n",
    "            step_global+=1\n",
    "            \n",
    "            # TensorBoard\n",
    "            writer.add_scalar(\n",
    "                f'Loss_Train (finetuned_batch{int(accumulation_steps*batch_size)}_epoch{epochs}_lr{lr})',\n",
    "                loss_train,\n",
    "                step_global\n",
    "            )\n",
    "            # Console\n",
    "            if step_global%500==0:\n",
    "                print(f'epoch {epoch+1} step {step_global} loss_train {loss_train:.4f}')\n",
    "            # Set Loss to 0\n",
    "            loss_train=0\n",
    "            \n",
    "            optimizer.step()\n",
    "            scheduler.step()\n",
    "            \n",
    "            optimizer.zero_grad()\n",
    "            \n",
    "    # Eval Phase\n",
    "    model.eval()\n",
    "    \n",
    "    loss_eval=0\n",
    "    \n",
    "    with torch.no_grad():\n",
    "        for step, (data, label) in enumerate(dataloader_dev):\n",
    "            data=data.to(device)\n",
    "            label=label.to(device)\n",
    "            \n",
    "            outputs=model(data, labels=label)\n",
    "\n",
    "            loss=outputs[0]\n",
    "            loss_eval+=loss.item()\n",
    "        loss_eval=loss_eval/(step+1)\n",
    "        \n",
    "        # TensorBoard\n",
    "        writer.add_scalar(\n",
    "            f'Loss_Eval (finetuned_batch{int(accumulation_steps*batch_size)}_epoch{epochs}_lr{lr})',\n",
    "            loss_eval,\n",
    "            epoch+1\n",
    "        )\n",
    "        # Console\n",
    "        print(\"=====\")\n",
    "        print(f'epoch {epoch+1} loss_eval {loss_eval:.4f}')\n",
    "        print(\"=====\")\n",
    "        \n",
    "    # Save Model\n",
    "    model.to(torch.device('cpu'))\n",
    "    torch.save(model, root_path+f'model/finetuned_batch{int(accumulation_steps*batch_size)}_epoch{epoch+1}of{epochs}_lr{lr}.pt')"
   ]
  },
  {
   "cell_type": "code",
   "execution_count": null,
   "id": "d0d7ffac",
   "metadata": {},
   "outputs": [],
   "source": []
  }
 ],
 "metadata": {
  "kernelspec": {
   "display_name": "Python 3 (ipykernel)",
   "language": "python",
   "name": "python3"
  },
  "language_info": {
   "codemirror_mode": {
    "name": "ipython",
    "version": 3
   },
   "file_extension": ".py",
   "mimetype": "text/x-python",
   "name": "python",
   "nbconvert_exporter": "python",
   "pygments_lexer": "ipython3",
   "version": "3.7.11"
  }
 },
 "nbformat": 4,
 "nbformat_minor": 5
}
