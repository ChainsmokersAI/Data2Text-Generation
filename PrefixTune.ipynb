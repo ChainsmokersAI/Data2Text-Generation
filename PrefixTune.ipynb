{
 "cells": [
  {
   "cell_type": "code",
   "execution_count": 1,
   "id": "8746fb00",
   "metadata": {},
   "outputs": [],
   "source": [
    "import json\n",
    "\n",
    "import torch\n",
    "import torch.nn as nn\n",
    "from torch.utils.data import Dataset, DataLoader\n",
    "\n",
    "from transformers import GPT2Tokenizer, GPT2LMHeadModel, AdamW, get_linear_schedule_with_warmup"
   ]
  },
  {
   "cell_type": "code",
   "execution_count": 2,
   "id": "4966f8f6",
   "metadata": {},
   "outputs": [],
   "source": [
    "device=torch.device('cuda:0')"
   ]
  },
  {
   "cell_type": "code",
   "execution_count": 3,
   "id": "97490dde",
   "metadata": {},
   "outputs": [],
   "source": [
    "tokenizer=GPT2Tokenizer.from_pretrained('gpt2-medium')\n",
    "pretrained=GPT2LMHeadModel.from_pretrained('gpt2-medium')"
   ]
  },
  {
   "cell_type": "code",
   "execution_count": 4,
   "id": "d50d8d3f",
   "metadata": {},
   "outputs": [
    {
     "data": {
      "text/plain": [
       "Embedding(50258, 1024)"
      ]
     },
     "execution_count": 4,
     "metadata": {},
     "output_type": "execute_result"
    }
   ],
   "source": [
    "tokenizer.add_special_tokens({'pad_token': '[PAD]'})\n",
    "pretrained.resize_token_embeddings(len(tokenizer))"
   ]
  },
  {
   "cell_type": "code",
   "execution_count": 5,
   "id": "4e837607",
   "metadata": {},
   "outputs": [
    {
     "name": "stdout",
     "output_type": "stream",
     "text": [
      "bos_token: <|endoftext|>\n",
      "eos_token: <|endoftext|>\n",
      "pad_token_id: 50257\n"
     ]
    }
   ],
   "source": [
    "print(\"bos_token:\", tokenizer.bos_token)\n",
    "print(\"eos_token:\", tokenizer.eos_token)\n",
    "print(\"pad_token_id:\", tokenizer.pad_token_id)"
   ]
  },
  {
   "cell_type": "code",
   "execution_count": 6,
   "id": "5fcff595",
   "metadata": {},
   "outputs": [],
   "source": [
    "with open('./dataset/webnlg/train.json', 'r') as f:\n",
    "    dict_train=json.load(f)\n",
    "    f.close()"
   ]
  },
  {
   "cell_type": "code",
   "execution_count": 7,
   "id": "5c181bb2",
   "metadata": {},
   "outputs": [
    {
     "name": "stdout",
     "output_type": "stream",
     "text": [
      "18025 Triples\n",
      "18025 Texts\n"
     ]
    }
   ],
   "source": [
    "data_triple=[]\n",
    "data_text=[]\n",
    "\n",
    "for index, data in enumerate(dict_train['entries']):\n",
    "    triples=data[str(index+1)]['modifiedtripleset']\n",
    "    triple_proc=\"\"\n",
    "    for triple in triples:\n",
    "        subj, prop, obj=triple['subject'], triple['property'], triple['object']\n",
    "        triple_proc+=\"| {} : {} : {} \".format(subj, prop, obj)\n",
    "        \n",
    "    texts=data[str(index+1)]['lexicalisations']\n",
    "    for text in texts:\n",
    "        if text['comment']!=\"good\": continue\n",
    "            \n",
    "        data_triple.append(triple_proc)\n",
    "        data_text.append(text['lex'])\n",
    "        \n",
    "print(len(data_triple), \"Triples\")\n",
    "print(len(data_text), \"Texts\")"
   ]
  },
  {
   "cell_type": "code",
   "execution_count": 8,
   "id": "5e513eb4",
   "metadata": {},
   "outputs": [],
   "source": [
    "preseqlen=10\n",
    "batch_size=5\n",
    "accumulation_steps=1\n",
    "epochs=10\n",
    "lr=5e-5"
   ]
  },
  {
   "cell_type": "code",
   "execution_count": 9,
   "id": "eab61982",
   "metadata": {},
   "outputs": [],
   "source": [
    "class D2TDataset(Dataset):\n",
    "    def __init__(self, tokenizer, data_triple, data_text):\n",
    "        self.data=[]\n",
    "        self.label=[]\n",
    "        \n",
    "        for index, triple in enumerate(data_triple):\n",
    "            data=tokenizer.encode(triple+tokenizer.bos_token+data_text[index]+tokenizer.eos_token)\n",
    "            self.data.append(data)\n",
    "            \n",
    "            label=tokenizer.encode(triple+tokenizer.bos_token+data_text[index]+tokenizer.eos_token)\n",
    "            sep=label.index(tokenizer.bos_token_id)+1\n",
    "            label[:sep]=[-100]*sep\n",
    "            self.label.append(label)\n",
    "            \n",
    "        print(len(self.data), \"Data\")\n",
    "    \n",
    "    def __getitem__(self, idx):\n",
    "        return self.data[idx], self.label[idx]\n",
    "    \n",
    "    def __len__(self):\n",
    "        return len(self.data)"
   ]
  },
  {
   "cell_type": "code",
   "execution_count": 10,
   "id": "59ffa506",
   "metadata": {},
   "outputs": [],
   "source": [
    "def collate_fn(batch):\n",
    "    max_len=0\n",
    "    for data, _ in batch:\n",
    "        if len(data)>max_len: max_len=len(data)\n",
    "            \n",
    "    datas=[]\n",
    "    labels=[]\n",
    "    for data, label in batch:\n",
    "        data.extend([tokenizer.pad_token_id]*(max_len-len(data)))\n",
    "        datas.append(data)\n",
    "        \n",
    "        label.extend([tokenizer.pad_token_id]*(max_len-len(label)))\n",
    "        labels.append(label)\n",
    "        \n",
    "    return torch.tensor(datas), torch.tensor(labels)"
   ]
  },
  {
   "cell_type": "code",
   "execution_count": 11,
   "id": "bfa6701b",
   "metadata": {},
   "outputs": [
    {
     "name": "stdout",
     "output_type": "stream",
     "text": [
      "18025 Data\n"
     ]
    }
   ],
   "source": [
    "dataset=D2TDataset(tokenizer=tokenizer, data_triple=data_triple, data_text=data_text)\n",
    "dataloader=DataLoader(dataset, batch_size=batch_size, shuffle=True, collate_fn=collate_fn)"
   ]
  },
  {
   "cell_type": "code",
   "execution_count": 12,
   "id": "b91cc5fc",
   "metadata": {},
   "outputs": [],
   "source": [
    "class PrefixTuning(nn.Module):\n",
    "    \n",
    "    def __init__(self, pretrained, preseqlen=5):\n",
    "        super().__init__()\n",
    "        \n",
    "        self.pretrained=pretrained\n",
    "        self.config=self.pretrained.config\n",
    "        for param in self.pretrained.parameters():\n",
    "            param.requires_grad=False\n",
    "        \n",
    "        self.input_tokens=torch.arange(preseqlen).long()\n",
    "        self.wte=nn.Embedding(preseqlen, self.config.n_embd)\n",
    "        self.control_trans=nn.Sequential(\n",
    "            nn.Linear(self.config.n_embd, 512),\n",
    "            nn.Tanh(),\n",
    "            nn.Linear(512, 512),\n",
    "            nn.Tanh(),\n",
    "            nn.Linear(512, self.config.n_layer*2*self.config.n_embd)\n",
    "        )\n",
    "        self.dropout=nn.Dropout(p=0.0)\n",
    "        \n",
    "        self.get_prompt=self.get_prompt_fn\n",
    "        \n",
    "    def get_prompt_fn(self, bsz=None):\n",
    "        input_tokens=self.input_tokens.unsqueeze(0).expand(bsz, -1).to(device)\n",
    "        temp_control=self.wte(input_tokens)\n",
    "        past_key_values=self.control_trans(temp_control)\n",
    "        bsz, seqlen, _=past_key_values.shape\n",
    "        past_key_values=past_key_values.view(bsz, seqlen, 2*self.config.n_layer, self.config.n_head, int(self.config.n_embd/self.config.n_head))\n",
    "        past_key_values=self.dropout(past_key_values)\n",
    "        past_key_values=past_key_values.permute([2, 0, 3, 1, 4]).split(2)\n",
    "        \n",
    "        return past_key_values\n",
    "        \n",
    "    def forward(self, input_ids, labels):\n",
    "        bsz=input_ids.shape[0]\n",
    "        past_key_values_prompt=self.get_prompt(bsz=bsz)\n",
    "        outputs=self.pretrained(input_ids=input_ids, labels=labels, past_key_values=past_key_values_prompt)\n",
    "        \n",
    "        return outputs"
   ]
  },
  {
   "cell_type": "code",
   "execution_count": 13,
   "id": "b667ae36",
   "metadata": {
    "scrolled": true
   },
   "outputs": [
    {
     "name": "stdout",
     "output_type": "stream",
     "text": [
      "epoch 1 step 300.0 loss 2.0914\n",
      "epoch 1 step 600.0 loss 1.4086\n",
      "epoch 1 step 900.0 loss 0.7895\n",
      "epoch 1 step 1200.0 loss 0.8516\n",
      "epoch 1 step 1500.0 loss 0.8462\n",
      "epoch 1 step 1800.0 loss 0.7322\n",
      "epoch 1 step 2100.0 loss 0.3825\n",
      "epoch 1 step 2400.0 loss 0.6926\n",
      "epoch 1 step 2700.0 loss 0.4183\n",
      "epoch 1 step 3000.0 loss 0.5589\n",
      "epoch 1 step 3300.0 loss 0.3608\n",
      "epoch 1 step 3600.0 loss 0.3440\n",
      "epoch 2 step 300.0 loss 0.4217\n",
      "epoch 2 step 600.0 loss 0.4353\n",
      "epoch 2 step 900.0 loss 0.2340\n",
      "epoch 2 step 1200.0 loss 0.3193\n",
      "epoch 2 step 1500.0 loss 0.2200\n",
      "epoch 2 step 1800.0 loss 0.4567\n",
      "epoch 2 step 2100.0 loss 0.2749\n",
      "epoch 2 step 2400.0 loss 0.2896\n",
      "epoch 2 step 2700.0 loss 0.2816\n",
      "epoch 2 step 3000.0 loss 0.2714\n",
      "epoch 2 step 3300.0 loss 0.4018\n",
      "epoch 2 step 3600.0 loss 0.1617\n",
      "epoch 3 step 300.0 loss 0.1102\n",
      "epoch 3 step 600.0 loss 0.0785\n",
      "epoch 3 step 900.0 loss 0.1806\n",
      "epoch 3 step 1200.0 loss 0.1189\n",
      "epoch 3 step 1500.0 loss 0.2175\n",
      "epoch 3 step 1800.0 loss 0.2895\n",
      "epoch 3 step 2100.0 loss 0.1665\n",
      "epoch 3 step 2400.0 loss 0.3442\n",
      "epoch 3 step 2700.0 loss 0.2010\n",
      "epoch 3 step 3000.0 loss 0.1296\n",
      "epoch 3 step 3300.0 loss 0.1913\n",
      "epoch 3 step 3600.0 loss 0.1916\n",
      "epoch 4 step 300.0 loss 0.2089\n",
      "epoch 4 step 600.0 loss 0.2558\n",
      "epoch 4 step 900.0 loss 0.1138\n",
      "epoch 4 step 1200.0 loss 0.2747\n",
      "epoch 4 step 1500.0 loss 0.2468\n",
      "epoch 4 step 1800.0 loss 0.1424\n",
      "epoch 4 step 2100.0 loss 0.1084\n",
      "epoch 4 step 2400.0 loss 0.1588\n",
      "epoch 4 step 2700.0 loss 0.2687\n",
      "epoch 4 step 3000.0 loss 0.0947\n",
      "epoch 4 step 3300.0 loss 0.2527\n",
      "epoch 4 step 3600.0 loss 0.1387\n",
      "epoch 5 step 300.0 loss 0.0998\n",
      "epoch 5 step 600.0 loss 0.1346\n",
      "epoch 5 step 900.0 loss 0.1597\n",
      "epoch 5 step 1200.0 loss 0.0759\n",
      "epoch 5 step 1500.0 loss 0.1274\n",
      "epoch 5 step 1800.0 loss 0.0585\n",
      "epoch 5 step 2100.0 loss 0.1531\n",
      "epoch 5 step 2400.0 loss 0.0923\n",
      "epoch 5 step 2700.0 loss 0.1018\n",
      "epoch 5 step 3000.0 loss 0.0498\n",
      "epoch 5 step 3300.0 loss 0.1464\n",
      "epoch 5 step 3600.0 loss 0.1440\n",
      "epoch 6 step 300.0 loss 0.0764\n",
      "epoch 6 step 600.0 loss 0.1101\n",
      "epoch 6 step 900.0 loss 0.1851\n",
      "epoch 6 step 1200.0 loss 0.0619\n",
      "epoch 6 step 1500.0 loss 0.1271\n",
      "epoch 6 step 1800.0 loss 0.1177\n",
      "epoch 6 step 2100.0 loss 0.0917\n",
      "epoch 6 step 2400.0 loss 0.1007\n",
      "epoch 6 step 2700.0 loss 0.1204\n",
      "epoch 6 step 3000.0 loss 0.1043\n",
      "epoch 6 step 3300.0 loss 0.1119\n",
      "epoch 6 step 3600.0 loss 0.1352\n",
      "epoch 7 step 300.0 loss 0.1272\n",
      "epoch 7 step 600.0 loss 0.1023\n",
      "epoch 7 step 900.0 loss 0.1034\n",
      "epoch 7 step 1200.0 loss 0.1482\n",
      "epoch 7 step 1500.0 loss 0.0955\n",
      "epoch 7 step 1800.0 loss 0.1844\n",
      "epoch 7 step 2100.0 loss 0.0538\n",
      "epoch 7 step 2400.0 loss 0.1395\n",
      "epoch 7 step 2700.0 loss 0.2061\n",
      "epoch 7 step 3000.0 loss 0.0824\n",
      "epoch 7 step 3300.0 loss 0.1038\n",
      "epoch 7 step 3600.0 loss 0.1371\n",
      "epoch 8 step 300.0 loss 0.0808\n",
      "epoch 8 step 600.0 loss 0.0600\n",
      "epoch 8 step 900.0 loss 0.1277\n",
      "epoch 8 step 1200.0 loss 0.1033\n",
      "epoch 8 step 1800.0 loss 0.0946\n",
      "epoch 8 step 2100.0 loss 0.1146\n",
      "epoch 8 step 2400.0 loss 0.1292\n",
      "epoch 8 step 2700.0 loss 0.2182\n",
      "epoch 8 step 3000.0 loss 0.1179\n",
      "epoch 8 step 3300.0 loss 0.0811\n",
      "epoch 8 step 3600.0 loss 0.1462\n",
      "epoch 9 step 300.0 loss 0.0418\n",
      "epoch 9 step 600.0 loss 0.0585\n",
      "epoch 9 step 900.0 loss 0.0774\n",
      "epoch 9 step 1200.0 loss 0.0873\n",
      "epoch 9 step 1500.0 loss 0.0698\n",
      "epoch 9 step 1800.0 loss 0.0723\n",
      "epoch 9 step 2100.0 loss 0.0787\n",
      "epoch 9 step 2400.0 loss 0.1161\n",
      "epoch 9 step 2700.0 loss 0.1049\n",
      "epoch 9 step 3000.0 loss 0.1418\n",
      "epoch 9 step 3300.0 loss 0.1402\n",
      "epoch 9 step 3600.0 loss 0.1362\n",
      "epoch 10 step 300.0 loss 0.0436\n",
      "epoch 10 step 600.0 loss 0.0996\n",
      "epoch 10 step 900.0 loss 0.1106\n",
      "epoch 10 step 1200.0 loss 0.0991\n",
      "epoch 10 step 1500.0 loss 0.1063\n",
      "epoch 10 step 1800.0 loss 0.0870\n",
      "epoch 10 step 2100.0 loss 0.0710\n",
      "epoch 10 step 2400.0 loss 0.0860\n",
      "epoch 10 step 2700.0 loss 0.1131\n",
      "epoch 10 step 3000.0 loss 0.0886\n",
      "epoch 10 step 3300.0 loss 0.1360\n",
      "epoch 10 step 3600.0 loss 0.1251\n"
     ]
    }
   ],
   "source": [
    "model=PrefixTuning(pretrained=pretrained, preseqlen=preseqlen)\n",
    "\n",
    "optimizer=AdamW(model.parameters(), lr=lr)\n",
    "scheduler=get_linear_schedule_with_warmup(\n",
    "    optimizer=optimizer,\n",
    "    num_warmup_steps=1000,\n",
    "    num_training_steps=int(epochs*len(dataset)/(accumulation_steps*batch_size))\n",
    ")\n",
    "\n",
    "model.to(device)\n",
    "model.train()\n",
    "\n",
    "for epoch in range(epochs):\n",
    "    loss_total=0\n",
    "    optimizer.zero_grad()\n",
    "    for step, (data, label) in enumerate(dataloader):\n",
    "        data=data.to(device)\n",
    "        label=label.to(device)\n",
    "        \n",
    "        outputs=model(input_ids=data, labels=label)\n",
    "        \n",
    "        loss=outputs[0]/accumulation_steps\n",
    "        loss.backward()\n",
    "        \n",
    "        loss_total+=loss.item()\n",
    "        \n",
    "        if (step+1)%accumulation_steps==0:\n",
    "            if (step+1)%(300*accumulation_steps)==0:\n",
    "                print(f'epoch {epoch+1} step {(step+1)/accumulation_steps} loss {loss_total:.4f}')\n",
    "            loss_total=0\n",
    "            \n",
    "            optimizer.step()\n",
    "            scheduler.step()\n",
    "            \n",
    "            optimizer.zero_grad()\n",
    "\n",
    "model.eval()\n",
    "model.to(torch.device('cpu'))\n",
    "\n",
    "torch.save(model, './model/'+f'prefixtuned_preseqlen{preseqlen}_batch{int(accumulation_steps*batch_size)}_epoch{epochs}_lr{lr}.pt')"
   ]
  },
  {
   "cell_type": "code",
   "execution_count": null,
   "id": "fe919a3a",
   "metadata": {},
   "outputs": [],
   "source": []
  }
 ],
 "metadata": {
  "kernelspec": {
   "display_name": "Python 3 (ipykernel)",
   "language": "python",
   "name": "python3"
  },
  "language_info": {
   "codemirror_mode": {
    "name": "ipython",
    "version": 3
   },
   "file_extension": ".py",
   "mimetype": "text/x-python",
   "name": "python",
   "nbconvert_exporter": "python",
   "pygments_lexer": "ipython3",
   "version": "3.7.10"
  }
 },
 "nbformat": 4,
 "nbformat_minor": 5
}
