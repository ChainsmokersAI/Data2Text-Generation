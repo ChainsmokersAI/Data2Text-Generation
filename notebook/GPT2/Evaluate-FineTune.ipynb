{
 "cells": [
  {
   "cell_type": "code",
   "execution_count": 1,
   "id": "fdb8097e",
   "metadata": {},
   "outputs": [],
   "source": [
    "import logging\n",
    "import json\n",
    "\n",
    "import torch\n",
    "import torch.nn as nn\n",
    "from transformers import GPT2Tokenizer\n",
    "\n",
    "from nltk.translate.bleu_score import sentence_bleu, SmoothingFunction"
   ]
  },
  {
   "cell_type": "code",
   "execution_count": 2,
   "id": "4d34d68b",
   "metadata": {},
   "outputs": [],
   "source": [
    "# Root Path\n",
    "root_path='/root/research/Graph-To-Text/'\n",
    "# Model Path\n",
    "model_path='./model/finetuned_batch6_epoch2of3_lr1e-05.pt'\n",
    "# Device: (Single) GPU\n",
    "device=torch.device('cuda:1')\n",
    "# Beam Search\n",
    "num_beams=6\n",
    "\n",
    "# Debugger\n",
    "logging.disable(logging.CRITICAL)"
   ]
  },
  {
   "cell_type": "code",
   "execution_count": 3,
   "id": "33be4e3d",
   "metadata": {},
   "outputs": [
    {
     "name": "stdout",
     "output_type": "stream",
     "text": [
      "10 Categories in Train Set\n",
      "['SportsTeam', 'City', 'Astronaut', 'University', 'WrittenWork', 'Airport', 'Building', 'Food', 'Monument', 'ComicsCharacter']\n"
     ]
    }
   ],
   "source": [
    "with open(root_path+'dataset/webnlg/train.json', 'r') as f:\n",
    "    dict_train=json.load(f)\n",
    "    f.close()\n",
    "    \n",
    "categories_seen=[]\n",
    "\n",
    "for index, data in enumerate(dict_train['entries']):\n",
    "    categories_seen.append(data[str(index+1)]['category'])\n",
    "    \n",
    "categories_seen=list(set(categories_seen))\n",
    "print(len(categories_seen), \"Categories in Train Set\")\n",
    "print(categories_seen)"
   ]
  },
  {
   "cell_type": "code",
   "execution_count": 4,
   "id": "73297700",
   "metadata": {},
   "outputs": [
    {
     "name": "stdout",
     "output_type": "stream",
     "text": [
      "5 Unseen Categories\n",
      "['CelestialBody', 'Athlete', 'MeanOfTransportation', 'Politician', 'Artist']\n",
      "=====\n",
      "971 Seen Data\n",
      "891 Unseen Data\n"
     ]
    }
   ],
   "source": [
    "with open(root_path+'dataset/webnlg/test.json', 'r') as f:\n",
    "    dict_test=json.load(f)\n",
    "    f.close()\n",
    "    \n",
    "categories_unseen=[]\n",
    "\n",
    "triples_seen=[]\n",
    "triples_unseen=[]\n",
    "\n",
    "refs_seen=[]\n",
    "refs_unseen=[]\n",
    "\n",
    "for index, data in enumerate(dict_test['entries']):\n",
    "    data=data[str(index+1)]\n",
    "    \n",
    "    triple_proc=\"\"\n",
    "    for triple in data['modifiedtripleset']:\n",
    "        subj, prop, obj=triple['subject'], triple['property'], triple['object']\n",
    "        triple_proc+=\"| {} : {} : {} \".format(subj, prop, obj)\n",
    "        \n",
    "    texts=data['lexicalisations']\n",
    "    \n",
    "    if data['category'] not in categories_seen:\n",
    "        categories_unseen.append(data['category'])\n",
    "        triples_unseen.append(triple_proc)\n",
    "        refs_unseen.append([text['lex'] for text in texts])\n",
    "        continue\n",
    "        \n",
    "    triples_seen.append(triple_proc)\n",
    "    refs_seen.append([text['lex'] for text in texts])\n",
    "    \n",
    "categories_unseen=list(set(categories_unseen))\n",
    "print(len(categories_unseen), \"Unseen Categories\")\n",
    "print(categories_unseen)\n",
    "print(\"=====\")\n",
    "\n",
    "print(len(triples_seen), \"Seen Data\")\n",
    "print(len(triples_unseen), \"Unseen Data\")"
   ]
  },
  {
   "cell_type": "code",
   "execution_count": 5,
   "id": "2dbfd85a",
   "metadata": {},
   "outputs": [
    {
     "name": "stdout",
     "output_type": "stream",
     "text": [
      "pad_token_id: 50257\n"
     ]
    }
   ],
   "source": [
    "tokenizer=GPT2Tokenizer.from_pretrained('gpt2-large')\n",
    "model=torch.load(root_path+model_path).to(device)\n",
    "\n",
    "# Add PAD Token: [PAD]\n",
    "tokenizer.add_special_tokens({'pad_token': '[PAD]'})\n",
    "print(\"pad_token_id:\", tokenizer.pad_token_id)"
   ]
  },
  {
   "cell_type": "code",
   "execution_count": 6,
   "id": "5d0b5021",
   "metadata": {},
   "outputs": [
    {
     "name": "stdout",
     "output_type": "stream",
     "text": [
      "Seen Categories\n",
      "100\n",
      "200\n",
      "300\n",
      "400\n",
      "500\n",
      "600\n",
      "700\n",
      "800\n",
      "900\n",
      "BLEU Score: 56.74\n"
     ]
    }
   ],
   "source": [
    "scores_seen=[]\n",
    "generations=\"\"\n",
    "\n",
    "print(\"Seen Categories\")\n",
    "for index, triple in enumerate(triples_seen):\n",
    "    if (index+1)%100==0: print(index+1)\n",
    "        \n",
    "    input_ids=tokenizer.encode(triple+tokenizer.bos_token)\n",
    "    output=model.generate(torch.tensor([input_ids]).to(device), max_length=500, num_beams=num_beams, early_stoping=True)\n",
    "    cand=tokenizer.decode(output[0], skip_special_tokens=True)[len(triple):]\n",
    "    generations+=cand+\"\\n\"\n",
    "    \n",
    "    bleu_score=sentence_bleu(\n",
    "        [ref.split() for ref in refs_seen[index]],\n",
    "        cand.split(),\n",
    "        smoothing_function=SmoothingFunction().method4\n",
    "    )\n",
    "    scores_seen.append(bleu_score)\n",
    "print(\"BLEU Score: {:.2f}\".format(100*sum(scores_seen)/len(scores_seen)))\n",
    "\n",
    "with open(root_path+'generation/'+model_path.split(\"/\")[-1][:-3]+'_Seen', 'w') as f:\n",
    "    f.write(generations)\n",
    "    f.close()"
   ]
  },
  {
   "cell_type": "code",
   "execution_count": 7,
   "id": "475fd5cf",
   "metadata": {},
   "outputs": [
    {
     "name": "stdout",
     "output_type": "stream",
     "text": [
      "Unseen Categories\n",
      "100\n",
      "200\n",
      "300\n",
      "400\n",
      "500\n",
      "600\n",
      "700\n",
      "800\n",
      "BLEU Score: 41.06\n"
     ]
    }
   ],
   "source": [
    "scores_unseen=[]\n",
    "generations=\"\"\n",
    "\n",
    "print(\"Unseen Categories\")\n",
    "for index, triple in enumerate(triples_unseen):\n",
    "    if (index+1)%100==0: print(index+1)\n",
    "        \n",
    "    input_ids=tokenizer.encode(triple+tokenizer.bos_token)\n",
    "    output=model.generate(torch.tensor([input_ids]).to(device), max_length=500, num_beams=num_beams, early_stoping=True)\n",
    "    cand=tokenizer.decode(output[0], skip_special_tokens=True)[len(triple):]\n",
    "    generations+=cand+\"\\n\"\n",
    "    \n",
    "    bleu_score=sentence_bleu(\n",
    "        [ref.split() for ref in refs_unseen[index]],\n",
    "        cand.split(),\n",
    "        smoothing_function=SmoothingFunction().method4\n",
    "    )\n",
    "    scores_unseen.append(bleu_score)\n",
    "print(\"BLEU Score: {:.2f}\".format(100*sum(scores_unseen)/len(scores_unseen)))\n",
    "\n",
    "with open(root_path+'generation/'+model_path.split(\"/\")[-1][:-3]+'_Unseen', 'w') as f:\n",
    "    f.write(generations)\n",
    "    f.close()"
   ]
  },
  {
   "cell_type": "code",
   "execution_count": null,
   "id": "901bed06",
   "metadata": {},
   "outputs": [],
   "source": []
  },
  {
   "cell_type": "code",
   "execution_count": 8,
   "id": "9a4c51ed",
   "metadata": {},
   "outputs": [
    {
     "name": "stdout",
     "output_type": "stream",
     "text": [
      "Seen Categories\n",
      "BLEU Score: 56.74\n"
     ]
    }
   ],
   "source": [
    "scores_seen=[]\n",
    "\n",
    "with open(root_path+'generation/'+model_path.split(\"/\")[-1][:-3]+'_Seen', 'r') as f:\n",
    "    cands_seen=f.read().split(\"\\n\")\n",
    "    f.close()\n",
    "\n",
    "print(\"Seen Categories\")\n",
    "\n",
    "for index, refs in enumerate(refs_seen):\n",
    "    bleu_score=sentence_bleu(\n",
    "        [ref.split() for ref in refs],\n",
    "        cands_seen[index].split(),\n",
    "        smoothing_function=SmoothingFunction().method4\n",
    "    )\n",
    "    scores_seen.append(bleu_score)\n",
    "print(\"BLEU Score: {:.2f}\".format(100*sum(scores_seen)/len(scores_seen)))"
   ]
  },
  {
   "cell_type": "code",
   "execution_count": 9,
   "id": "3217eaba",
   "metadata": {},
   "outputs": [
    {
     "name": "stdout",
     "output_type": "stream",
     "text": [
      "Unseen Categories\n",
      "BLEU Score: 41.06\n"
     ]
    }
   ],
   "source": [
    "scores_unseen=[]\n",
    "\n",
    "with open(root_path+'generation/'+model_path.split(\"/\")[-1][:-3]+'_Unseen', 'r') as f:\n",
    "    cands_unseen=f.read().split(\"\\n\")\n",
    "    f.close()\n",
    "\n",
    "print(\"Unseen Categories\")\n",
    "\n",
    "for index, refs in enumerate(refs_unseen):\n",
    "    bleu_score=sentence_bleu(\n",
    "        [ref.split() for ref in refs],\n",
    "        cands_unseen[index].split(),\n",
    "        smoothing_function=SmoothingFunction().method4\n",
    "    )\n",
    "    scores_unseen.append(bleu_score)\n",
    "print(\"BLEU Score: {:.2f}\".format(100*sum(scores_unseen)/len(scores_unseen)))"
   ]
  },
  {
   "cell_type": "code",
   "execution_count": null,
   "id": "5e8b490d",
   "metadata": {},
   "outputs": [],
   "source": []
  }
 ],
 "metadata": {
  "kernelspec": {
   "display_name": "Python 3 (ipykernel)",
   "language": "python",
   "name": "python3"
  },
  "language_info": {
   "codemirror_mode": {
    "name": "ipython",
    "version": 3
   },
   "file_extension": ".py",
   "mimetype": "text/x-python",
   "name": "python",
   "nbconvert_exporter": "python",
   "pygments_lexer": "ipython3",
   "version": "3.7.11"
  }
 },
 "nbformat": 4,
 "nbformat_minor": 5
}
