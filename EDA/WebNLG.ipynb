{
 "cells": [
  {
   "cell_type": "code",
   "execution_count": 1,
   "id": "7528b68c",
   "metadata": {},
   "outputs": [],
   "source": [
    "import json\n",
    "\n",
    "from transformers import GPT2Tokenizer"
   ]
  },
  {
   "cell_type": "markdown",
   "id": "f2044108",
   "metadata": {},
   "source": [
    "### Load Dataset"
   ]
  },
  {
   "cell_type": "code",
   "execution_count": 2,
   "id": "0eb05c5c",
   "metadata": {},
   "outputs": [],
   "source": [
    "with open('../dataset/webnlg/train.json', 'r') as f:\n",
    "    dict_train=json.load(f)\n",
    "    f.close()"
   ]
  },
  {
   "cell_type": "code",
   "execution_count": 3,
   "id": "bec9f781",
   "metadata": {},
   "outputs": [
    {
     "data": {
      "text/plain": [
       "dict_keys(['entries'])"
      ]
     },
     "execution_count": 3,
     "metadata": {},
     "output_type": "execute_result"
    }
   ],
   "source": [
    "dict_train.keys()"
   ]
  },
  {
   "cell_type": "code",
   "execution_count": 4,
   "id": "acd47ff1",
   "metadata": {},
   "outputs": [
    {
     "data": {
      "text/plain": [
       "{'1': {'category': 'Airport',\n",
       "  'dbpedialinks': [],\n",
       "  'lexicalisations': [{'comment': 'good',\n",
       "    'lang': '',\n",
       "    'lex': 'The Aarhus is the airport of Aarhus, Denmark.',\n",
       "    'xml_id': 'Id1'},\n",
       "   {'comment': 'good',\n",
       "    'lang': '',\n",
       "    'lex': 'Aarhus Airport serves the city of Aarhus, Denmark.',\n",
       "    'xml_id': 'Id2'}],\n",
       "  'links': [],\n",
       "  'modifiedtripleset': [{'object': '\"Aarhus, Denmark\"',\n",
       "    'property': 'cityServed',\n",
       "    'subject': 'Aarhus_Airport'}],\n",
       "  'originaltriplesets': {'originaltripleset': [[{'object': '\"Aarhus, Denmark\"@en',\n",
       "      'property': 'cityServed',\n",
       "      'subject': 'Aarhus_Airport'}]]},\n",
       "  'shape': 'NA',\n",
       "  'shape_type': 'NA',\n",
       "  'size': '1',\n",
       "  'xml_id': 'Id1'}}"
      ]
     },
     "execution_count": 4,
     "metadata": {},
     "output_type": "execute_result"
    }
   ],
   "source": [
    "dict_train['entries'][0]"
   ]
  },
  {
   "cell_type": "markdown",
   "id": "dbe96bd7",
   "metadata": {},
   "source": [
    "### Process Data"
   ]
  },
  {
   "cell_type": "code",
   "execution_count": 5,
   "id": "0e0270bf",
   "metadata": {},
   "outputs": [],
   "source": [
    "categories=[]\n",
    "properties=[]\n",
    "\n",
    "data_triple=[]\n",
    "data_text=[]"
   ]
  },
  {
   "cell_type": "code",
   "execution_count": 6,
   "id": "8303c621",
   "metadata": {},
   "outputs": [],
   "source": [
    "for index, data in enumerate(dict_train['entries']):\n",
    "    categories.append(data[str(index+1)]['category'])\n",
    "    \n",
    "    triples=data[str(index+1)]['modifiedtripleset']\n",
    "    triple_=\"\"\n",
    "    for triple in triples:\n",
    "        subj, prop, obj=triple['subject'], triple['property'], triple['object']\n",
    "        properties.append(prop)\n",
    "        triple_+=\"| {} : {} : {} \".format(subj, prop, obj)\n",
    "    \n",
    "    texts=data[str(index+1)]['lexicalisations']\n",
    "    for text in texts:\n",
    "        if text['comment']!=\"good\": continue\n",
    "            \n",
    "        data_triple.append(triple_)\n",
    "        data_text.append(text['lex'])"
   ]
  },
  {
   "cell_type": "code",
   "execution_count": 7,
   "id": "4a8fabda",
   "metadata": {},
   "outputs": [
    {
     "name": "stdout",
     "output_type": "stream",
     "text": [
      "10 Categories\n",
      "['ComicsCharacter', 'City', 'Building', 'Food', 'Airport', 'Monument', 'WrittenWork', 'Astronaut', 'SportsTeam', 'University']\n"
     ]
    }
   ],
   "source": [
    "categories=list(set(categories))\n",
    "print(len(categories), \"Categories\")\n",
    "print(categories)"
   ]
  },
  {
   "cell_type": "code",
   "execution_count": 8,
   "id": "61183011",
   "metadata": {},
   "outputs": [
    {
     "name": "stdout",
     "output_type": "stream",
     "text": [
      "246 Properties\n",
      "6888 Unique Triples\n",
      "18025 Triples\n",
      "18025 Texts\n"
     ]
    }
   ],
   "source": [
    "print(len(list(set(properties))), \"Properties\")\n",
    "print(len(list(set(data_triple))), \"Unique Triples\")\n",
    "print(len(data_triple), \"Triples\")\n",
    "print(len(data_text), \"Texts\")"
   ]
  },
  {
   "cell_type": "code",
   "execution_count": 9,
   "id": "247a9d94",
   "metadata": {},
   "outputs": [
    {
     "data": {
      "text/plain": [
       "'| Aarhus_Airport : cityServed : \"Aarhus, Denmark\" '"
      ]
     },
     "execution_count": 9,
     "metadata": {},
     "output_type": "execute_result"
    }
   ],
   "source": [
    "data_triple[0]"
   ]
  },
  {
   "cell_type": "code",
   "execution_count": 10,
   "id": "64418947",
   "metadata": {},
   "outputs": [
    {
     "data": {
      "text/plain": [
       "'The Aarhus is the airport of Aarhus, Denmark.'"
      ]
     },
     "execution_count": 10,
     "metadata": {},
     "output_type": "execute_result"
    }
   ],
   "source": [
    "data_text[0]"
   ]
  },
  {
   "cell_type": "markdown",
   "id": "2af14656",
   "metadata": {},
   "source": [
    "### Prepare for Training (GPT2-Medium)"
   ]
  },
  {
   "cell_type": "code",
   "execution_count": 11,
   "id": "40230651",
   "metadata": {},
   "outputs": [],
   "source": [
    "tokenizer=GPT2Tokenizer.from_pretrained('gpt2-medium')"
   ]
  },
  {
   "cell_type": "code",
   "execution_count": 12,
   "id": "5b85efe8",
   "metadata": {},
   "outputs": [
    {
     "name": "stdout",
     "output_type": "stream",
     "text": [
      "bos_token: <|endoftext|>\n",
      "eos_token: <|endoftext|>\n"
     ]
    }
   ],
   "source": [
    "print(\"bos_token:\", tokenizer.bos_token)\n",
    "print(\"eos_token:\", tokenizer.eos_token)"
   ]
  },
  {
   "cell_type": "code",
   "execution_count": 13,
   "id": "51abab55",
   "metadata": {},
   "outputs": [
    {
     "name": "stdout",
     "output_type": "stream",
     "text": [
      "| Aarhus_Airport : cityServed : \"Aarhus, Denmark\" <|endoftext|>The Aarhus is the airport of Aarhus, Denmark.<|endoftext|>\n",
      "-----\n",
      "[91, 317, 283, 7537, 62, 16170, 634, 1058, 1748, 50, 8520, 1058, 366, 32, 283, 7537, 11, 16490, 1, 220, 50256, 464, 317, 283, 7537, 318, 262, 9003, 286, 317, 283, 7537, 11, 16490, 13, 50256]\n",
      "=====\n",
      "[-100, -100, -100, -100, -100, -100, -100, -100, -100, -100, -100, -100, -100, -100, -100, -100, -100, -100, -100, -100, -100, 464, 317, 283, 7537, 318, 262, 9003, 286, 317, 283, 7537, 11, 16490, 13, 50256]\n"
     ]
    }
   ],
   "source": [
    "for index, triple in enumerate(data_triple):\n",
    "    data=tokenizer.encode(triple+tokenizer.bos_token+data_text[index]+tokenizer.eos_token)\n",
    "    print(triple+tokenizer.bos_token+data_text[index]+tokenizer.eos_token)\n",
    "    print(\"-----\")\n",
    "    print(data)\n",
    "    \n",
    "    print(\"=====\")\n",
    "    \n",
    "    label=data=tokenizer.encode(triple+tokenizer.bos_token+data_text[index]+tokenizer.eos_token)\n",
    "    sep=label.index(tokenizer.bos_token_id)+1\n",
    "    label[:sep]=[-100]*sep\n",
    "    print(label)\n",
    "    \n",
    "    break"
   ]
  },
  {
   "cell_type": "code",
   "execution_count": null,
   "id": "55c70fad",
   "metadata": {},
   "outputs": [],
   "source": []
  }
 ],
 "metadata": {
  "kernelspec": {
   "display_name": "Python 3 (ipykernel)",
   "language": "python",
   "name": "python3"
  },
  "language_info": {
   "codemirror_mode": {
    "name": "ipython",
    "version": 3
   },
   "file_extension": ".py",
   "mimetype": "text/x-python",
   "name": "python",
   "nbconvert_exporter": "python",
   "pygments_lexer": "ipython3",
   "version": "3.7.10"
  }
 },
 "nbformat": 4,
 "nbformat_minor": 5
}
