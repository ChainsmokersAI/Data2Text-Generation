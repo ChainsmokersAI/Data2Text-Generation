{
 "cells": [
  {
   "cell_type": "code",
   "execution_count": 1,
   "id": "812f8ee0",
   "metadata": {},
   "outputs": [],
   "source": [
    "import sys\n",
    "import logging\n",
    "import json\n",
    "import types\n",
    "\n",
    "import torch\n",
    "import torch.nn as nn\n",
    "from transformers import GPT2Tokenizer, GPT2LMHeadModel\n",
    "\n",
    "from nltk.translate.bleu_score import sentence_bleu, SmoothingFunction"
   ]
  },
  {
   "cell_type": "code",
   "execution_count": 2,
   "id": "94037e6d",
   "metadata": {},
   "outputs": [],
   "source": [
    "# Root Path\n",
    "root_path='/root/research/Graph-To-Text/'\n",
    "# Model Path\n",
    "model_path='./model/c-prefixtuned_preseqlen10_batch5_epoch5of5_lr7e-05.pt'\n",
    "# Device: (Single) GPU\n",
    "device=torch.device('cuda:3')\n",
    "# Beam Search\n",
    "num_beams=6\n",
    "\n",
    "# Import Modules\n",
    "sys.path.append(root_path+'transformers/')\n",
    "from generation_utils import generate, beam_search\n",
    "\n",
    "# Debugger\n",
    "logging.disable(logging.CRITICAL)"
   ]
  },
  {
   "cell_type": "code",
   "execution_count": 3,
   "id": "bb49b4f0",
   "metadata": {},
   "outputs": [
    {
     "name": "stdout",
     "output_type": "stream",
     "text": [
      "10 Categories in Train Set\n",
      "['Building', 'University', 'ComicsCharacter', 'WrittenWork', 'Monument', 'Astronaut', 'City', 'SportsTeam', 'Food', 'Airport']\n"
     ]
    }
   ],
   "source": [
    "with open(root_path+'dataset/webnlg/train.json', 'r') as f:\n",
    "    dict_train=json.load(f)\n",
    "    f.close()\n",
    "    \n",
    "categories_seen=[]\n",
    "\n",
    "for index, data in enumerate(dict_train['entries']):\n",
    "    categories_seen.append(data[str(index+1)]['category'])\n",
    "    \n",
    "categories_seen=list(set(categories_seen))\n",
    "print(len(categories_seen), \"Categories in Train Set\")\n",
    "print(categories_seen)"
   ]
  },
  {
   "cell_type": "code",
   "execution_count": 4,
   "id": "b4f75770",
   "metadata": {},
   "outputs": [
    {
     "name": "stdout",
     "output_type": "stream",
     "text": [
      "5 Unseen Categories\n",
      "['CelestialBody', 'Politician', 'Artist', 'Athlete', 'MeanOfTransportation']\n",
      "=====\n",
      "971 Seen Data\n",
      "891 Unseen Data\n"
     ]
    }
   ],
   "source": [
    "with open(root_path+'dataset/webnlg/test.json', 'r') as f:\n",
    "    dict_test=json.load(f)\n",
    "    f.close()\n",
    "    \n",
    "categories_unseen=[]\n",
    "\n",
    "controls_seen=[]\n",
    "triples_seen=[]\n",
    "refs_seen=[]\n",
    "\n",
    "controls_unseen=[]\n",
    "triples_unseen=[]\n",
    "refs_unseen=[]\n",
    "\n",
    "for index, data in enumerate(dict_test['entries']):\n",
    "    data=data[str(index+1)]\n",
    "    \n",
    "    triple_proc=\"\"\n",
    "    for triple in data['modifiedtripleset']:\n",
    "        subj, prop, obj=triple['subject'], triple['property'], triple['object']\n",
    "        triple_proc+=\"| {} : {} : {} \".format(subj, prop, obj)\n",
    "        \n",
    "    texts=data['lexicalisations']\n",
    "    \n",
    "    if data['category'] not in categories_seen:\n",
    "        categories_unseen.append(data['category'])\n",
    "        \n",
    "        controls_unseen.append(data['category'])\n",
    "        triples_unseen.append(triple_proc)\n",
    "        refs_unseen.append([text['lex'] for text in texts])\n",
    "        continue\n",
    "        \n",
    "    controls_seen.append(data['category'])\n",
    "    triples_seen.append(triple_proc)\n",
    "    refs_seen.append([text['lex'] for text in texts])\n",
    "    \n",
    "categories_unseen=list(set(categories_unseen))\n",
    "print(len(categories_unseen), \"Unseen Categories\")\n",
    "print(categories_unseen)\n",
    "print(\"=====\")\n",
    "\n",
    "print(len(triples_seen), \"Seen Data\")\n",
    "print(len(triples_unseen), \"Unseen Data\")"
   ]
  },
  {
   "cell_type": "code",
   "execution_count": 5,
   "id": "988e0bbf",
   "metadata": {},
   "outputs": [],
   "source": [
    "class ControlPrefixesGPT2(nn.Module):\n",
    "    \"\"\"\n",
    "    Control-Prefixes on GPT2\n",
    "    \"\"\"\n",
    "    def __init__(self, config, categories, ctrlseqlen=2, preseqlen=5, hidden_dim=512):\n",
    "        super().__init__()\n",
    "        \n",
    "        # Config of Pre-Trained LM\n",
    "        self.config=config\n",
    "        \n",
    "        # Control-Prefixes: Attributes\n",
    "        self.categories=categories\n",
    "        print(self.categories)\n",
    "        # Control Prefix Length\n",
    "        self.ctrlseqlen=ctrlseqlen\n",
    "        # General Prefix Length\n",
    "        self.preseqlen=preseqlen\n",
    "        \n",
    "        # Embedding\n",
    "        # Control\n",
    "        self.wte_ctrl=nn.Embedding(ctrlseqlen*len(categories), self.config.n_embd)\n",
    "        # General\n",
    "        self.input_tokens=torch.arange(preseqlen).long()\n",
    "        self.wte=nn.Embedding(len(categories)+preseqlen, self.config.n_embd)\n",
    "        \n",
    "        # Reparam\n",
    "        self.control_trans=nn.Sequential(\n",
    "            nn.Linear(self.config.n_embd, hidden_dim),\n",
    "            nn.Tanh(),\n",
    "            nn.Linear(hidden_dim, hidden_dim),\n",
    "            nn.Tanh(),\n",
    "            nn.Linear(hidden_dim, self.config.n_layer*2*self.config.n_embd)\n",
    "        )\n",
    "        #self.dropout=nn.Dropout(p=0.0)\n",
    "        \n",
    "        # Func: Get Prompt\n",
    "        self.get_prompt=self.get_prompt_fn\n",
    "        \n",
    "    def get_prompt_fn(self, bsz=None, categories=None):\n",
    "        # Control Prefix\n",
    "        controls=[list(range(self.ctrlseqlen*self.categories.index(c), self.ctrlseqlen*(self.categories.index(c)+1))) for c in categories]\n",
    "        controls=torch.tensor(controls).to(device)\n",
    "        controls=self.wte_ctrl(controls)\n",
    "        \n",
    "        # General Prefix\n",
    "        input_tokens=self.input_tokens.unsqueeze(0).expand(bsz, -1).to(device)\n",
    "        input_tokens=self.wte(input_tokens)\n",
    "        \n",
    "        # [Control, General]\n",
    "        input_tokens=torch.cat((controls, input_tokens), dim=1)\n",
    "        past_key_values=self.control_trans(input_tokens)\n",
    "        bsz, seqlen, _=past_key_values.shape\n",
    "        past_key_values=past_key_values.view(bsz, seqlen, 2*self.config.n_layer, self.config.n_head, int(self.config.n_embd/self.config.n_head))\n",
    "        #past_key_values=self.dropout(past_key_values)\n",
    "        past_key_values=past_key_values.permute([2, 0, 3, 1, 4]).split(2)\n",
    "        \n",
    "        return past_key_values\n",
    "        \n",
    "    def forward(self, input_ids, labels, categories):\n",
    "        bsz=input_ids.shape[0]\n",
    "        past_key_values_prompt=self.get_prompt(bsz=bsz, categories=categories)\n",
    "        \n",
    "        return past_key_values_prompt"
   ]
  },
  {
   "cell_type": "code",
   "execution_count": 6,
   "id": "d12ccc0d",
   "metadata": {},
   "outputs": [
    {
     "name": "stdout",
     "output_type": "stream",
     "text": [
      "pad_token_id: 50257\n"
     ]
    }
   ],
   "source": [
    "tokenizer=GPT2Tokenizer.from_pretrained('gpt2-large')\n",
    "pretrained=GPT2LMHeadModel.from_pretrained('gpt2-large').to(device)\n",
    "model=torch.load(root_path+model_path).to(device)\n",
    "\n",
    "# Add PAD Token: [PAD]\n",
    "tokenizer.add_special_tokens({'pad_token': '[PAD]'})\n",
    "print(\"pad_token_id:\", tokenizer.pad_token_id)\n",
    "\n",
    "# Bind Customized Generation Function\n",
    "pretrained.generate=types.MethodType(generate, pretrained)\n",
    "pretrained.beam_search=types.MethodType(beam_search, pretrained)"
   ]
  },
  {
   "cell_type": "code",
   "execution_count": 7,
   "id": "cb16fb0b",
   "metadata": {},
   "outputs": [
    {
     "name": "stdout",
     "output_type": "stream",
     "text": [
      "Seen Categories\n",
      "100\n",
      "200\n",
      "300\n",
      "400\n",
      "500\n",
      "600\n",
      "700\n",
      "800\n",
      "900\n",
      "BLEU Score: 57.72\n"
     ]
    }
   ],
   "source": [
    "scores_seen=[]\n",
    "generations=\"\"\n",
    "\n",
    "print(\"Seen Categories\")\n",
    "\n",
    "for index, triple in enumerate(triples_seen):\n",
    "    if (index+1)%100==0: print(index+1)\n",
    "        \n",
    "    prefix=model.get_prompt(bsz=num_beams, categories=[controls_seen[index]]*num_beams)\n",
    "    input_ids=tokenizer.encode(triple+tokenizer.bos_token)\n",
    "    output=pretrained.generate(torch.tensor([input_ids]).to(device), max_length=500, num_beams=num_beams, early_stoping=True, prefix=prefix)\n",
    "    cand=tokenizer.decode(output[0], skip_special_tokens=True)[len(triple):]\n",
    "    generations+=cand+\"\\n\"\n",
    "    \n",
    "    bleu_score=sentence_bleu(\n",
    "        [ref.split() for ref in refs_seen[index]],\n",
    "        cand.split(),\n",
    "        smoothing_function=SmoothingFunction().method4\n",
    "    )\n",
    "    scores_seen.append(bleu_score)\n",
    "print(\"BLEU Score: {:.2f}\".format(100*sum(scores_seen)/len(scores_seen)))\n",
    "\n",
    "with open(root_path+'generation/'+model_path.split(\"/\")[-1][:-3]+'_Seen', 'w') as f:\n",
    "    f.write(generations)\n",
    "    f.close()"
   ]
  },
  {
   "cell_type": "code",
   "execution_count": 8,
   "id": "91e8ffd1",
   "metadata": {},
   "outputs": [],
   "source": [
    "controls_mapping={\n",
    "    'Artist': 'WrittenWork',\n",
    "    'Athlete': 'SportsTeam',\n",
    "    'CelestialBody': 'Astronaut',\n",
    "    'MeanOfTransportation': 'Airport',\n",
    "    'Politician': 'Monument'\n",
    "}\n",
    "controls_unseen=[controls_mapping[c] for c in controls_unseen]"
   ]
  },
  {
   "cell_type": "code",
   "execution_count": 9,
   "id": "f0a0d7b5",
   "metadata": {},
   "outputs": [
    {
     "name": "stdout",
     "output_type": "stream",
     "text": [
      "Unseen Categories\n",
      "100\n",
      "200\n",
      "300\n",
      "400\n",
      "500\n",
      "600\n",
      "700\n",
      "800\n",
      "BLEU Score: 30.97\n"
     ]
    }
   ],
   "source": [
    "scores_unseen=[]\n",
    "generations=\"\"\n",
    "\n",
    "print(\"Unseen Categories\")\n",
    "\n",
    "for index, triple in enumerate(triples_unseen):\n",
    "    if (index+1)%100==0: print(index+1)\n",
    "        \n",
    "    prefix=model.get_prompt(bsz=num_beams, categories=[controls_unseen[index]]*num_beams)\n",
    "    input_ids=tokenizer.encode(triple+tokenizer.bos_token)\n",
    "    output=pretrained.generate(torch.tensor([input_ids]).to(device), max_length=500, num_beams=num_beams, early_stoping=True, prefix=prefix)\n",
    "    cand=tokenizer.decode(output[0], skip_special_tokens=True)[len(triple):]\n",
    "    generations+=cand+\"\\n\"\n",
    "    \n",
    "    bleu_score=sentence_bleu(\n",
    "        [ref.split() for ref in refs_unseen[index]],\n",
    "        cand.split(),\n",
    "        smoothing_function=SmoothingFunction().method4\n",
    "    )\n",
    "    scores_unseen.append(bleu_score)\n",
    "print(\"BLEU Score: {:.2f}\".format(100*sum(scores_unseen)/len(scores_unseen)))\n",
    "\n",
    "with open(root_path+'generation/'+model_path.split(\"/\")[-1][:-3]+'_Unseen', 'w') as f:\n",
    "    f.write(generations)\n",
    "    f.close()"
   ]
  },
  {
   "cell_type": "code",
   "execution_count": null,
   "id": "907cdd39",
   "metadata": {},
   "outputs": [],
   "source": []
  },
  {
   "cell_type": "code",
   "execution_count": 10,
   "id": "764096ef",
   "metadata": {},
   "outputs": [
    {
     "name": "stdout",
     "output_type": "stream",
     "text": [
      "Seen Categories\n",
      "BLEU Score: 57.72\n"
     ]
    }
   ],
   "source": [
    "scores_seen=[]\n",
    "\n",
    "with open(root_path+'generation/'+model_path.split(\"/\")[-1][:-3]+'_Seen', 'r') as f:\n",
    "    cands_seen=f.read().split(\"\\n\")\n",
    "    f.close()\n",
    "\n",
    "print(\"Seen Categories\")\n",
    "\n",
    "for index, refs in enumerate(refs_seen):\n",
    "    bleu_score=sentence_bleu(\n",
    "        [ref.split() for ref in refs],\n",
    "        cands_seen[index].split(),\n",
    "        smoothing_function=SmoothingFunction().method4\n",
    "    )\n",
    "    scores_seen.append(bleu_score)\n",
    "print(\"BLEU Score: {:.2f}\".format(100*sum(scores_seen)/len(scores_seen)))"
   ]
  },
  {
   "cell_type": "code",
   "execution_count": 11,
   "id": "75243b95",
   "metadata": {},
   "outputs": [
    {
     "name": "stdout",
     "output_type": "stream",
     "text": [
      "Unseen Categories\n",
      "BLEU Score: 30.97\n"
     ]
    }
   ],
   "source": [
    "scores_unseen=[]\n",
    "\n",
    "with open(root_path+'generation/'+model_path.split(\"/\")[-1][:-3]+'_Unseen', 'r') as f:\n",
    "    cands_unseen=f.read().split(\"\\n\")\n",
    "    f.close()\n",
    "\n",
    "print(\"Unseen Categories\")\n",
    "\n",
    "for index, refs in enumerate(refs_unseen):\n",
    "    bleu_score=sentence_bleu(\n",
    "        [ref.split() for ref in refs],\n",
    "        cands_unseen[index].split(),\n",
    "        smoothing_function=SmoothingFunction().method4\n",
    "    )\n",
    "    scores_unseen.append(bleu_score)\n",
    "print(\"BLEU Score: {:.2f}\".format(100*sum(scores_unseen)/len(scores_unseen)))"
   ]
  },
  {
   "cell_type": "code",
   "execution_count": null,
   "id": "5e069560",
   "metadata": {},
   "outputs": [],
   "source": []
  }
 ],
 "metadata": {
  "kernelspec": {
   "display_name": "Python 3 (ipykernel)",
   "language": "python",
   "name": "python3"
  },
  "language_info": {
   "codemirror_mode": {
    "name": "ipython",
    "version": 3
   },
   "file_extension": ".py",
   "mimetype": "text/x-python",
   "name": "python",
   "nbconvert_exporter": "python",
   "pygments_lexer": "ipython3",
   "version": "3.7.11"
  }
 },
 "nbformat": 4,
 "nbformat_minor": 5
}
