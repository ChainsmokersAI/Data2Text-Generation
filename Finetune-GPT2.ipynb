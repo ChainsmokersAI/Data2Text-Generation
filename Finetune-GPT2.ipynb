{
 "cells": [
  {
   "cell_type": "code",
   "execution_count": 1,
   "id": "14e31bf2",
   "metadata": {},
   "outputs": [],
   "source": [
    "import json\n",
    "\n",
    "import torch\n",
    "import torch.nn as nn\n",
    "from torch.utils.data import Dataset, DataLoader\n",
    "\n",
    "from transformers import GPT2Tokenizer, GPT2LMHeadModel, AdamW, get_linear_schedule_with_warmup"
   ]
  },
  {
   "cell_type": "code",
   "execution_count": 2,
   "id": "c0981f13",
   "metadata": {},
   "outputs": [],
   "source": [
    "device=torch.device('cuda:0')"
   ]
  },
  {
   "cell_type": "code",
   "execution_count": 3,
   "id": "2ca3d0e5",
   "metadata": {},
   "outputs": [],
   "source": [
    "tokenizer=GPT2Tokenizer.from_pretrained('gpt2-medium')\n",
    "model=GPT2LMHeadModel.from_pretrained('gpt2-medium')"
   ]
  },
  {
   "cell_type": "code",
   "execution_count": 4,
   "id": "64e08ac4",
   "metadata": {},
   "outputs": [
    {
     "data": {
      "text/plain": [
       "Embedding(50258, 1024)"
      ]
     },
     "execution_count": 4,
     "metadata": {},
     "output_type": "execute_result"
    }
   ],
   "source": [
    "tokenizer.add_special_tokens({'pad_token': '[PAD]'})\n",
    "model.resize_token_embeddings(len(tokenizer))"
   ]
  },
  {
   "cell_type": "code",
   "execution_count": 5,
   "id": "11afb15c",
   "metadata": {},
   "outputs": [
    {
     "name": "stdout",
     "output_type": "stream",
     "text": [
      "bos_token: <|endoftext|>\n",
      "eos_token: <|endoftext|>\n",
      "pad_token_id: 50257\n"
     ]
    }
   ],
   "source": [
    "print(\"bos_token:\", tokenizer.bos_token)\n",
    "print(\"eos_token:\", tokenizer.eos_token)\n",
    "print(\"pad_token_id:\", tokenizer.pad_token_id)"
   ]
  },
  {
   "cell_type": "code",
   "execution_count": 6,
   "id": "24f3cbf6",
   "metadata": {},
   "outputs": [],
   "source": [
    "with open('./dataset/webnlg/train.json', 'r') as f:\n",
    "    dict_train=json.load(f)\n",
    "    f.close()"
   ]
  },
  {
   "cell_type": "code",
   "execution_count": 7,
   "id": "bc8ff540",
   "metadata": {},
   "outputs": [
    {
     "name": "stdout",
     "output_type": "stream",
     "text": [
      "18025 Triples\n",
      "18025 Texts\n"
     ]
    }
   ],
   "source": [
    "data_triple=[]\n",
    "data_text=[]\n",
    "\n",
    "for index, data in enumerate(dict_train['entries']):\n",
    "    triples=data[str(index+1)]['modifiedtripleset']\n",
    "    triple_proc=\"\"\n",
    "    for triple in triples:\n",
    "        subj, prop, obj=triple['subject'], triple['property'], triple['object']\n",
    "        triple_proc+=\"| {} : {} : {} \".format(subj, prop, obj)\n",
    "        \n",
    "    texts=data[str(index+1)]['lexicalisations']\n",
    "    for text in texts:\n",
    "        if text['comment']!=\"good\": continue\n",
    "            \n",
    "        data_triple.append(triple_proc)\n",
    "        data_text.append(text['lex'])\n",
    "        \n",
    "print(len(data_triple), \"Triples\")\n",
    "print(len(data_text), \"Texts\")"
   ]
  },
  {
   "cell_type": "code",
   "execution_count": 8,
   "id": "d60e76e0",
   "metadata": {},
   "outputs": [],
   "source": [
    "batch_size=1\n",
    "accumulation_steps=6\n",
    "epochs=10\n",
    "lr=1e-5"
   ]
  },
  {
   "cell_type": "code",
   "execution_count": 9,
   "id": "4bbec8cc",
   "metadata": {},
   "outputs": [],
   "source": [
    "class D2TDataset(Dataset):\n",
    "    def __init__(self, tokenizer, data_triple, data_text):\n",
    "        self.data=[]\n",
    "        self.label=[]\n",
    "        \n",
    "        for index, triple in enumerate(data_triple):\n",
    "            data=tokenizer.encode(triple+tokenizer.bos_token+data_text[index]+tokenizer.eos_token)\n",
    "            self.data.append(data)\n",
    "            \n",
    "            label=tokenizer.encode(triple+tokenizer.bos_token+data_text[index]+tokenizer.eos_token)\n",
    "            sep=label.index(tokenizer.bos_token_id)+1\n",
    "            label[:sep]=[-100]*sep\n",
    "            self.label.append(label)\n",
    "            \n",
    "        print(len(self.data), \"Data\")\n",
    "    \n",
    "    def __getitem__(self, idx):\n",
    "        return self.data[idx], self.label[idx]\n",
    "    \n",
    "    def __len__(self):\n",
    "        return len(self.data)"
   ]
  },
  {
   "cell_type": "code",
   "execution_count": 10,
   "id": "aaac3be4",
   "metadata": {},
   "outputs": [],
   "source": [
    "def collate_fn(batch):\n",
    "    max_len=0\n",
    "    for data, _ in batch:\n",
    "        if len(data)>max_len: max_len=len(data)\n",
    "            \n",
    "    datas=[]\n",
    "    labels=[]\n",
    "    for data, label in batch:\n",
    "        data.extend([tokenizer.pad_token_id]*(max_len-len(data)))\n",
    "        datas.append(data)\n",
    "        \n",
    "        label.extend([tokenizer.pad_token_id]*(max_len-len(label)))\n",
    "        labels.append(label)\n",
    "        \n",
    "    return torch.tensor(datas), torch.tensor(labels)"
   ]
  },
  {
   "cell_type": "code",
   "execution_count": 11,
   "id": "8f2c236b",
   "metadata": {},
   "outputs": [
    {
     "name": "stdout",
     "output_type": "stream",
     "text": [
      "18025 Data\n"
     ]
    }
   ],
   "source": [
    "dataset=D2TDataset(tokenizer=tokenizer, data_triple=data_triple, data_text=data_text)\n",
    "dataloader=DataLoader(dataset, batch_size=batch_size, shuffle=True, collate_fn=collate_fn)"
   ]
  },
  {
   "cell_type": "code",
   "execution_count": 12,
   "id": "6dc008e2",
   "metadata": {
    "scrolled": true
   },
   "outputs": [
    {
     "name": "stdout",
     "output_type": "stream",
     "text": [
      "epoch 1 step 300.0 loss 3.1779\n",
      "epoch 1 step 600.0 loss 2.0012\n",
      "epoch 1 step 900.0 loss 1.7799\n",
      "epoch 1 step 1200.0 loss 1.3456\n",
      "epoch 1 step 1500.0 loss 1.0278\n",
      "epoch 1 step 1800.0 loss 1.2174\n",
      "epoch 1 step 2100.0 loss 1.0221\n",
      "epoch 1 step 2400.0 loss 1.1849\n",
      "epoch 1 step 2700.0 loss 1.0774\n",
      "epoch 1 step 3000.0 loss 1.3413\n",
      "epoch 2 step 300.0 loss 1.0142\n",
      "epoch 2 step 600.0 loss 0.9850\n",
      "epoch 2 step 900.0 loss 0.7949\n",
      "epoch 2 step 1200.0 loss 1.0650\n",
      "epoch 2 step 1500.0 loss 0.7837\n",
      "epoch 2 step 1800.0 loss 1.1539\n",
      "epoch 2 step 2100.0 loss 1.0984\n",
      "epoch 2 step 2400.0 loss 0.7723\n",
      "epoch 2 step 2700.0 loss 0.8099\n",
      "epoch 2 step 3000.0 loss 0.7996\n",
      "epoch 3 step 300.0 loss 0.5853\n",
      "epoch 3 step 600.0 loss 0.8636\n",
      "epoch 3 step 900.0 loss 0.7801\n",
      "epoch 3 step 1200.0 loss 0.5861\n",
      "epoch 3 step 1500.0 loss 0.6802\n",
      "epoch 3 step 1800.0 loss 0.5948\n",
      "epoch 3 step 2100.0 loss 0.9255\n",
      "epoch 3 step 2400.0 loss 0.5065\n",
      "epoch 3 step 2700.0 loss 0.6460\n",
      "epoch 3 step 3000.0 loss 0.9123\n",
      "epoch 4 step 300.0 loss 0.5766\n",
      "epoch 4 step 600.0 loss 0.8233\n",
      "epoch 4 step 900.0 loss 0.7886\n",
      "epoch 4 step 1200.0 loss 0.8452\n",
      "epoch 4 step 1500.0 loss 0.6372\n",
      "epoch 4 step 1800.0 loss 0.7046\n",
      "epoch 4 step 2100.0 loss 0.6567\n",
      "epoch 4 step 2400.0 loss 0.7508\n",
      "epoch 4 step 2700.0 loss 0.6446\n",
      "epoch 4 step 3000.0 loss 0.8640\n",
      "epoch 5 step 300.0 loss 0.7075\n",
      "epoch 5 step 600.0 loss 0.5798\n",
      "epoch 5 step 900.0 loss 0.6173\n",
      "epoch 5 step 1200.0 loss 0.5945\n",
      "epoch 5 step 1500.0 loss 0.7840\n",
      "epoch 5 step 1800.0 loss 0.7382\n",
      "epoch 5 step 2100.0 loss 0.5126\n",
      "epoch 5 step 2400.0 loss 0.5784\n",
      "epoch 5 step 2700.0 loss 0.2985\n",
      "epoch 5 step 3000.0 loss 0.7076\n",
      "epoch 6 step 300.0 loss 0.6947\n",
      "epoch 6 step 600.0 loss 0.8285\n",
      "epoch 6 step 900.0 loss 0.5355\n",
      "epoch 6 step 1200.0 loss 0.5245\n",
      "epoch 6 step 1500.0 loss 0.8243\n",
      "epoch 6 step 1800.0 loss 0.4379\n",
      "epoch 6 step 2100.0 loss 0.6256\n",
      "epoch 6 step 2400.0 loss 0.2898\n",
      "epoch 6 step 2700.0 loss 0.5818\n",
      "epoch 6 step 3000.0 loss 0.7577\n",
      "epoch 7 step 300.0 loss 0.6454\n",
      "epoch 7 step 600.0 loss 0.5729\n",
      "epoch 7 step 900.0 loss 0.6327\n",
      "epoch 7 step 1200.0 loss 0.5015\n",
      "epoch 7 step 1500.0 loss 0.5826\n",
      "epoch 7 step 1800.0 loss 0.8136\n",
      "epoch 7 step 2100.0 loss 0.6801\n",
      "epoch 7 step 2400.0 loss 0.9222\n",
      "epoch 7 step 2700.0 loss 0.3783\n",
      "epoch 7 step 3000.0 loss 0.5457\n",
      "epoch 8 step 300.0 loss 0.2863\n",
      "epoch 8 step 600.0 loss 0.5252\n",
      "epoch 8 step 900.0 loss 0.5100\n",
      "epoch 8 step 1200.0 loss 0.6309\n",
      "epoch 8 step 1500.0 loss 0.4858\n",
      "epoch 8 step 1800.0 loss 0.2665\n",
      "epoch 8 step 2100.0 loss 0.3968\n",
      "epoch 8 step 2400.0 loss 0.5719\n",
      "epoch 8 step 2700.0 loss 0.4862\n",
      "epoch 8 step 3000.0 loss 0.6468\n",
      "epoch 9 step 300.0 loss 0.5083\n",
      "epoch 9 step 600.0 loss 0.6032\n",
      "epoch 9 step 900.0 loss 0.4105\n",
      "epoch 9 step 1200.0 loss 0.5821\n",
      "epoch 9 step 1500.0 loss 0.4578\n",
      "epoch 9 step 1800.0 loss 0.4650\n",
      "epoch 9 step 2100.0 loss 0.4977\n",
      "epoch 9 step 2400.0 loss 0.7232\n",
      "epoch 9 step 2700.0 loss 0.4654\n",
      "epoch 9 step 3000.0 loss 0.5094\n",
      "epoch 10 step 300.0 loss 0.5392\n",
      "epoch 10 step 600.0 loss 0.5311\n",
      "epoch 10 step 900.0 loss 0.3291\n",
      "epoch 10 step 1200.0 loss 0.4144\n",
      "epoch 10 step 1500.0 loss 0.5693\n",
      "epoch 10 step 1800.0 loss 0.3921\n",
      "epoch 10 step 2100.0 loss 0.3381\n",
      "epoch 10 step 2400.0 loss 0.6496\n",
      "epoch 10 step 2700.0 loss 0.4265\n",
      "epoch 10 step 3000.0 loss 0.5020\n"
     ]
    }
   ],
   "source": [
    "optimizer=AdamW(model.parameters(), lr=lr)\n",
    "scheduler=get_linear_schedule_with_warmup(\n",
    "    optimizer=optimizer,\n",
    "    num_warmup_steps=1000,\n",
    "    num_training_steps=int(epochs*len(dataset)/(accumulation_steps*batch_size))\n",
    ")\n",
    "\n",
    "model.to(device)\n",
    "model.train()\n",
    "\n",
    "for epoch in range(epochs):\n",
    "    loss_total=0\n",
    "    optimizer.zero_grad()\n",
    "    for step, (data, label) in enumerate(dataloader):\n",
    "        data=data.to(device)\n",
    "        label=label.to(device)\n",
    "        \n",
    "        outputs=model(data, labels=label)\n",
    "        \n",
    "        loss=outputs[0]/accumulation_steps\n",
    "        loss.backward()\n",
    "        \n",
    "        loss_total+=loss.item()\n",
    "        \n",
    "        if (step+1)%accumulation_steps==0:\n",
    "            if (step+1)%(300*accumulation_steps)==0:\n",
    "                print(f'epoch {epoch+1} step {(step+1)/accumulation_steps} loss {loss_total:.4f}')\n",
    "            loss_total=0\n",
    "            \n",
    "            optimizer.step()\n",
    "            scheduler.step()\n",
    "            \n",
    "            optimizer.zero_grad()\n",
    "\n",
    "model.eval()\n",
    "model.to(torch.device('cpu'))\n",
    "\n",
    "torch.save(model, './model/toymodel3.pt')"
   ]
  },
  {
   "cell_type": "code",
   "execution_count": null,
   "id": "7b5deecd",
   "metadata": {},
   "outputs": [],
   "source": []
  }
 ],
 "metadata": {
  "kernelspec": {
   "display_name": "Python 3 (ipykernel)",
   "language": "python",
   "name": "python3"
  },
  "language_info": {
   "codemirror_mode": {
    "name": "ipython",
    "version": 3
   },
   "file_extension": ".py",
   "mimetype": "text/x-python",
   "name": "python",
   "nbconvert_exporter": "python",
   "pygments_lexer": "ipython3",
   "version": "3.7.10"
  }
 },
 "nbformat": 4,
 "nbformat_minor": 5
}
